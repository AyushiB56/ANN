{
  "nbformat": 4,
  "nbformat_minor": 0,
  "metadata": {
    "colab": {
      "provenance": []
    },
    "kernelspec": {
      "name": "python3",
      "display_name": "Python 3"
    },
    "language_info": {
      "name": "python"
    }
  },
  "cells": [
    {
      "cell_type": "code",
      "execution_count": 1,
      "metadata": {
        "id": "rFL5V37V5woO"
      },
      "outputs": [],
      "source": [
        "import pandas as pd\n",
        "import pickle\n"
      ]
    },
    {
      "cell_type": "code",
      "source": [
        "import tensorflow as tf\n",
        "from tensorflow.keras import layers\n",
        "from tensorflow.keras.models import Sequential\n",
        "from tensorflow.keras.models import load_model\n",
        "from tensorflow.keras.callbacks import EarlyStopping, TensorBoard\n",
        "from tensorflow.keras import regularizers\n",
        "from tensorflow.keras.models import load_model"
      ],
      "metadata": {
        "id": "s313Ypb95x6D"
      },
      "execution_count": 2,
      "outputs": []
    },
    {
      "cell_type": "code",
      "source": [
        "from sklearn.preprocessing import LabelEncoder\n",
        "from sklearn.preprocessing import StandardScaler\n",
        "from sklearn.model_selection import train_test_split\n",
        "from sklearn.preprocessing import OneHotEncoder"
      ],
      "metadata": {
        "id": "uF2ldzYW5zcq"
      },
      "execution_count": 3,
      "outputs": []
    },
    {
      "cell_type": "code",
      "source": [
        "model = load_model(\"model.h5\")"
      ],
      "metadata": {
        "colab": {
          "base_uri": "https://localhost:8080/"
        },
        "id": "HyLiGJDa51P0",
        "outputId": "0a7a16b0-8452-4dfa-dff9-0a21a8039d1b"
      },
      "execution_count": 4,
      "outputs": [
        {
          "output_type": "stream",
          "name": "stderr",
          "text": [
            "WARNING:absl:Compiled the loaded model, but the compiled metrics have yet to be built. `model.compile_metrics` will be empty until you train or evaluate the model.\n"
          ]
        }
      ]
    },
    {
      "cell_type": "code",
      "source": [
        "with open(\"geo_encoder\",'rb') as file:\n",
        "  geo_encoder= pickle.load(file)\n",
        "\n",
        "\n",
        "with open(\"label_encoder\",'rb') as file:\n",
        "  label_encoder= pickle.load(file)\n",
        "\n",
        "\n",
        "with open(\"standard_scalar\",'rb') as file:\n",
        "  standard_scalar= pickle.load(file)"
      ],
      "metadata": {
        "id": "emF1CIyy5-0t"
      },
      "execution_count": 5,
      "outputs": []
    },
    {
      "cell_type": "code",
      "source": [
        "# predict this\n",
        "input_data = {\n",
        "    'CreditScore': 600,\n",
        "    'Geography': 'France',\n",
        "    'Gender': 'Male',\n",
        "    'Age': 40,\n",
        "    'Tenure': 3,\n",
        "    'Balance': 60000,\n",
        "    'NumOfProducts': 2,\n",
        "    'HasCrCard': 1,\n",
        "    'IsActiveMember': 1,\n",
        "    'EstimatedSalary': 50000\n",
        "}"
      ],
      "metadata": {
        "id": "oLeBVzm86ASh"
      },
      "execution_count": 6,
      "outputs": []
    },
    {
      "cell_type": "code",
      "source": [
        "\n",
        "prediction_input= pd.DataFrame([input_data])"
      ],
      "metadata": {
        "id": "6bB_Ssig6B5m"
      },
      "execution_count": 7,
      "outputs": []
    },
    {
      "cell_type": "code",
      "source": [
        "geo_encoder_df= geo_encoder.transform([[input_data[\"Geography\"]]]).toarray()"
      ],
      "metadata": {
        "colab": {
          "base_uri": "https://localhost:8080/"
        },
        "id": "Y20RP8-I6D79",
        "outputId": "6990f7e1-c923-4e54-fdc7-d9f0ecd243fe"
      },
      "execution_count": 8,
      "outputs": [
        {
          "output_type": "stream",
          "name": "stderr",
          "text": [
            "/usr/local/lib/python3.11/dist-packages/sklearn/utils/validation.py:2739: UserWarning: X does not have valid feature names, but OneHotEncoder was fitted with feature names\n",
            "  warnings.warn(\n"
          ]
        }
      ]
    },
    {
      "cell_type": "code",
      "source": [
        "geo_df= pd.DataFrame(geo_encoder_df, columns= geo_encoder.get_feature_names_out(['Geography']))"
      ],
      "metadata": {
        "id": "eLOdiVhE6Fry"
      },
      "execution_count": 9,
      "outputs": []
    },
    {
      "cell_type": "code",
      "source": [
        "prediction_input['Gender']= label_encoder.transform(prediction_input['Gender'])"
      ],
      "metadata": {
        "id": "QW1SQtTW6Iar"
      },
      "execution_count": 10,
      "outputs": []
    },
    {
      "cell_type": "code",
      "source": [
        "prediction_input= prediction_input.drop('Geography', axis=1)"
      ],
      "metadata": {
        "id": "QOonxdIh6Kjo"
      },
      "execution_count": 11,
      "outputs": []
    },
    {
      "cell_type": "code",
      "source": [
        "testing_data= pd.concat([prediction_input,geo_df],axis=1)"
      ],
      "metadata": {
        "id": "CCqoWhF86NY-"
      },
      "execution_count": 12,
      "outputs": []
    },
    {
      "cell_type": "code",
      "source": [
        "testing_data= standard_scalar.transform(testing_data)"
      ],
      "metadata": {
        "id": "s00nADD46PHV"
      },
      "execution_count": 13,
      "outputs": []
    },
    {
      "cell_type": "code",
      "source": [
        "prediction = model.predict(testing_data)"
      ],
      "metadata": {
        "colab": {
          "base_uri": "https://localhost:8080/"
        },
        "id": "iBgFUH5N6Q8t",
        "outputId": "f118af59-4558-4355-bf30-fe0b99434d38"
      },
      "execution_count": 14,
      "outputs": [
        {
          "metadata": {
            "tags": null
          },
          "name": "stdout",
          "output_type": "stream",
          "text": [
            "\u001b[1m1/1\u001b[0m \u001b[32m━━━━━━━━━━━━━━━━━━━━\u001b[0m\u001b[37m\u001b[0m \u001b[1m0s\u001b[0m 119ms/step\n"
          ]
        }
      ]
    },
    {
      "cell_type": "code",
      "source": [
        "if prediction[0][0].item() >0.5:\n",
        "  print(\"patient is likely to churn\")\n",
        "else:\n",
        "  print(\"patient is not likely to churn\")"
      ],
      "metadata": {
        "colab": {
          "base_uri": "https://localhost:8080/"
        },
        "id": "egqmpiwS6Sj1",
        "outputId": "47100355-7d45-41a5-b39d-37394e714310"
      },
      "execution_count": 15,
      "outputs": [
        {
          "output_type": "stream",
          "name": "stdout",
          "text": [
            "patient is not likely to churn\n"
          ]
        }
      ]
    },
    {
      "cell_type": "code",
      "source": [],
      "metadata": {
        "id": "ff-0dfzY6Zfi"
      },
      "execution_count": null,
      "outputs": []
    }
  ]
}